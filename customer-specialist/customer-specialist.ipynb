{
 "cells": [
  {
   "cell_type": "markdown",
   "id": "8b46c5a0",
   "metadata": {},
   "source": [
    "### Agent responsible of solve fix to customer using requirementes describe on KB procedures"
   ]
  },
  {
   "cell_type": "markdown",
   "id": "c6d0fde2",
   "metadata": {},
   "source": [
    "<div style=\"text-align: center; line-height: 0; padding-top: 9px;\">\n",
    "  <img src=\"https://raw.githubusercontent.com/Foiac/customerSpecialist/refs/heads/main/customer-specialist/FlowDrawn.png\" alt=\"Clean Data\" style=\"width: 800px\">\n",
    "</div>"
   ]
  },
  {
   "cell_type": "code",
   "execution_count": null,
   "id": "5197a263",
   "metadata": {
    "vscode": {
     "languageId": "plaintext"
    }
   },
   "outputs": [],
   "source": [
    "from azure.search.documents import SearchClient\n",
    "from azure.core.credentials import AzureKeyCredential\n",
    "\n",
    "search_client = SearchClient(\n",
    "    endpoint=\"https://SEU-SEARCH-NAME.search.windows.net\",\n",
    "    index_name=\"procedimentos-kb\",\n",
    "    credential=AzureKeyCredential(\"CHAVE-DA-BUSCA\")\n",
    ")\n",
    "\n",
    "def obter_contexto_rag(pergunta):\n",
    "    resultados = search_client.search(pergunta, top=3)\n",
    "    return \"\\n\".join([doc['content'] for doc in resultados])"
   ]
  }
 ],
 "metadata": {
  "language_info": {
   "name": "python"
  }
 },
 "nbformat": 4,
 "nbformat_minor": 5
}
