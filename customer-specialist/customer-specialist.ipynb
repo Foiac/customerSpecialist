{
 "cells": [
  {
   "cell_type": "markdown",
   "id": "8b46c5a0",
   "metadata": {},
   "source": [
    "# Customer-specialist\n",
    "Agent responsible of solve fix to customer using requirementes describe on KB procedures"
   ]
  },
  {
   "cell_type": "markdown",
   "id": "c6d0fde2",
   "metadata": {},
   "source": [
    "<div style=\"text-align: center; line-height: 0; padding-top: 9px;\">\n",
    "  <img src=\"https://raw.githubusercontent.com/Foiac/customerSpecialist/refs/heads/main/customer-specialist/FlowDrawn.png\" alt=\"Clean Data\" style=\"width: 800px\">\n",
    "</div>"
   ]
  },
  {
   "cell_type": "markdown",
   "id": "525fae70",
   "metadata": {},
   "source": [
    "### Paths"
   ]
  },
  {
   "cell_type": "code",
   "execution_count": 26,
   "id": "036ac17b",
   "metadata": {},
   "outputs": [],
   "source": [
    "from azure.search.documents import SearchClient\n",
    "from azure.core.credentials import AzureKeyCredential\n",
    "from openai import AzureOpenAI\n",
    "import os\n",
    "from dotenv import load_dotenv"
   ]
  },
  {
   "cell_type": "markdown",
   "id": "22fe50d0",
   "metadata": {},
   "source": [
    "### Confs"
   ]
  },
  {
   "cell_type": "code",
   "execution_count": 33,
   "id": "df88e95d",
   "metadata": {},
   "outputs": [],
   "source": [
    "load_dotenv()\n",
    "\n",
    "# AI SEARCH ENVIRONMENT VARIABLES\n",
    "SERVICE_NAME = os.getenv(\"AZURE_SEARCH_SERVICE_NAME\")\n",
    "INDEX_NAME = os.getenv(\"AZURE_SEARCH_INDEX_NAME\")\n",
    "API_KEY_AZURE_SEARCH = os.getenv(\"AZURE_SEARCH_API_KEY\")\n",
    "\n",
    "endpoint = f\"https://{SERVICE_NAME}.search.windows.net\"\n",
    "\n",
    "# OPEN AI ENVIRONMENT VARIABLES\n",
    "AZURE_ENDPOINT = os.getenv(\"AZURE_OPEN_AI_ENDPOINT\")\n",
    "API_VERSION = os.getenv(\"AZURE_OPEN_AI_API_VERSION\")\n",
    "API_KEY_AZURE_OPEN_AI = os.getenv(\"AZURE_OPEN_AI_API_KEY\")\n"
   ]
  },
  {
   "cell_type": "markdown",
   "id": "fad63b97",
   "metadata": {},
   "source": [
    "### Index Client"
   ]
  },
  {
   "cell_type": "code",
   "execution_count": 28,
   "id": "1f9b909c",
   "metadata": {},
   "outputs": [],
   "source": [
    "search_client = SearchClient(endpoint=endpoint, index_name=INDEX_NAME, credential=AzureKeyCredential(API_KEY_AZURE_SEARCH))"
   ]
  },
  {
   "cell_type": "markdown",
   "id": "c875f2b5",
   "metadata": {},
   "source": [
    "### OpenAI Client"
   ]
  },
  {
   "cell_type": "code",
   "execution_count": 35,
   "id": "e6a0dab8",
   "metadata": {},
   "outputs": [],
   "source": [
    "client = AzureOpenAI(\n",
    "    api_version=API_VERSION,\n",
    "    azure_endpoint=AZURE_ENDPOINT,\n",
    "    api_key=API_KEY_AZURE_OPEN_AI,\n",
    ")"
   ]
  },
  {
   "cell_type": "markdown",
   "id": "ad1424d4",
   "metadata": {},
   "source": [
    "### Context function"
   ]
  },
  {
   "cell_type": "code",
   "execution_count": 36,
   "id": "538f6c4e",
   "metadata": {},
   "outputs": [],
   "source": [
    "def obter_contexto_rag(pergunta):\n",
    "    resultados = search_client.search(pergunta, top=3)\n",
    "    return \"\\n\".join([doc['content'] for doc in resultados])"
   ]
  },
  {
   "cell_type": "markdown",
   "id": "a9e896a1",
   "metadata": {},
   "source": [
    "### Tools"
   ]
  },
  {
   "cell_type": "code",
   "execution_count": 37,
   "id": "28085fe2",
   "metadata": {},
   "outputs": [],
   "source": [
    "tools = [{\n",
    "    \"type\": \"function\",\n",
    "    \"function\": {\n",
    "        \"name\": \"resetar_senha\",\n",
    "        \"description\": \"Redefine a senha de um colaborador autorizado\",\n",
    "        \"parameters\": {\n",
    "            \"type\": \"object\",\n",
    "            \"properties\": {\n",
    "                \"cpf\": {\"type\": \"string\"},\n",
    "                \"tipo_usuario\": {\"type\": \"string\", \"enum\": [\"colaborador\", \"gerente\", \"rh\"]}\n",
    "            },\n",
    "            \"required\": [\"cpf\", \"tipo_usuario\"]\n",
    "        }\n",
    "    }\n",
    "}]"
   ]
  },
  {
   "cell_type": "markdown",
   "id": "9a79e8b4",
   "metadata": {},
   "source": [
    "### Define agent function"
   ]
  },
  {
   "cell_type": "code",
   "execution_count": 38,
   "id": "a75b7416",
   "metadata": {},
   "outputs": [],
   "source": [
    "def chamar_agente(pergunta, contexto):\n",
    "    resposta = client.chat.completions.create(\n",
    "        model=\"gpt-4o-mini\", \n",
    "        temperature=0,\n",
    "        tools=tools,\n",
    "        tool_choice=\"auto\",\n",
    "        messages=[\n",
    "            {\"role\": \"system\", \"content\": \"Você é um agente de execução que só age com base nos procedimentos.\"},\n",
    "            {\"role\": \"user\", \"content\": pergunta},\n",
    "            {\"role\": \"system\", \"content\": f\"Base de conhecimento:\\n{contexto}\"}\n",
    "        ]\n",
    "    )\n",
    "    return resposta"
   ]
  },
  {
   "cell_type": "markdown",
   "id": "226afc1a",
   "metadata": {},
   "source": [
    "### Teste"
   ]
  },
  {
   "cell_type": "code",
   "execution_count": 39,
   "id": "4badd156",
   "metadata": {},
   "outputs": [
    {
     "name": "stdout",
     "output_type": "stream",
     "text": [
      "Resposta textual: A redefinição de senha para um gerente, como no caso do João, requer autorização do RH. Você tem essa autorização?\n"
     ]
    }
   ],
   "source": [
    "pergunta = \"Quero resetar a senha do gerente João, cpf 12345678901\"\n",
    "contexto = obter_contexto_rag(pergunta)\n",
    "\n",
    "resposta = chamar_agente(pergunta, contexto)\n",
    "\n",
    "choice = resposta.choices[0]\n",
    "\n",
    "if choice.finish_reason == \"tool_calls\":\n",
    "    print(\"Decidiu executar:\", choice.message.tool_calls[0].function.name)\n",
    "    print(\"Parâmetros:\", choice.message.tool_calls[0].function.arguments)\n",
    "else:\n",
    "    print(\"Resposta textual:\", choice.message.content)"
   ]
  }
 ],
 "metadata": {
  "kernelspec": {
   "display_name": "Python 3",
   "language": "python",
   "name": "python3"
  },
  "language_info": {
   "codemirror_mode": {
    "name": "ipython",
    "version": 3
   },
   "file_extension": ".py",
   "mimetype": "text/x-python",
   "name": "python",
   "nbconvert_exporter": "python",
   "pygments_lexer": "ipython3",
   "version": "3.10.6"
  }
 },
 "nbformat": 4,
 "nbformat_minor": 5
}
