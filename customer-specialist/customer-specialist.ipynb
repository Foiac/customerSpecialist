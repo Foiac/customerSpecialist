{
 "cells": [
  {
   "cell_type": "markdown",
   "id": "8b46c5a0",
   "metadata": {},
   "source": [
    "# Customer-specialist\n",
    "Agent responsible of solve fix to customer using requirementes describe on KB procedures"
   ]
  },
  {
   "cell_type": "markdown",
   "id": "c6d0fde2",
   "metadata": {},
   "source": [
    "<div style=\"text-align: center; line-height: 0; padding-top: 9px;\">\n",
    "  <img src=\"https://raw.githubusercontent.com/Foiac/customerSpecialist/refs/heads/main/customer-specialist/FlowDrawn.png\" alt=\"Clean Data\" style=\"width: 800px\">\n",
    "</div>"
   ]
  },
  {
   "cell_type": "code",
   "execution_count": 1,
   "id": "5c2c4bd8",
   "metadata": {},
   "outputs": [
    {
     "name": "stdout",
     "output_type": "stream",
     "text": [
      "Collecting azure-search-documents\n",
      "  Downloading azure_search_documents-11.5.2-py3-none-any.whl (298 kB)\n",
      "     -------------------------------------- 298.8/298.8 kB 9.3 MB/s eta 0:00:00\n",
      "Requirement already satisfied: azure-common>=1.1 in c:\\users\\caio frança\\appdata\\local\\programs\\python\\python310\\lib\\site-packages (from azure-search-documents) (1.1.28)\n",
      "Requirement already satisfied: azure-core>=1.28.0 in c:\\users\\caio frança\\appdata\\local\\programs\\python\\python310\\lib\\site-packages (from azure-search-documents) (1.31.0)\n",
      "Requirement already satisfied: isodate>=0.6.0 in c:\\users\\caio frança\\appdata\\local\\programs\\python\\python310\\lib\\site-packages (from azure-search-documents) (0.7.2)\n",
      "Requirement already satisfied: typing-extensions>=4.6.0 in c:\\users\\caio frança\\appdata\\local\\programs\\python\\python310\\lib\\site-packages (from azure-search-documents) (4.12.2)\n",
      "Requirement already satisfied: six>=1.11.0 in c:\\users\\caio frança\\appdata\\local\\programs\\python\\python310\\lib\\site-packages (from azure-core>=1.28.0->azure-search-documents) (1.16.0)\n",
      "Requirement already satisfied: requests>=2.21.0 in c:\\users\\caio frança\\appdata\\local\\programs\\python\\python310\\lib\\site-packages (from azure-core>=1.28.0->azure-search-documents) (2.28.1)\n",
      "Requirement already satisfied: charset-normalizer<3,>=2 in c:\\users\\caio frança\\appdata\\local\\programs\\python\\python310\\lib\\site-packages (from requests>=2.21.0->azure-core>=1.28.0->azure-search-documents) (2.1.1)\n",
      "Requirement already satisfied: idna<4,>=2.5 in c:\\users\\caio frança\\appdata\\local\\programs\\python\\python310\\lib\\site-packages (from requests>=2.21.0->azure-core>=1.28.0->azure-search-documents) (3.3)\n",
      "Requirement already satisfied: certifi>=2017.4.17 in c:\\users\\caio frança\\appdata\\local\\programs\\python\\python310\\lib\\site-packages (from requests>=2.21.0->azure-core>=1.28.0->azure-search-documents) (2022.6.15)\n",
      "Requirement already satisfied: urllib3<1.27,>=1.21.1 in c:\\users\\caio frança\\appdata\\local\\programs\\python\\python310\\lib\\site-packages (from requests>=2.21.0->azure-core>=1.28.0->azure-search-documents) (1.26.12)\n",
      "Installing collected packages: azure-search-documents\n",
      "Successfully installed azure-search-documents-11.5.2\n"
     ]
    },
    {
     "name": "stderr",
     "output_type": "stream",
     "text": [
      "\n",
      "[notice] A new release of pip available: 22.2.2 -> 25.1.1\n",
      "[notice] To update, run: python.exe -m pip install --upgrade pip\n"
     ]
    }
   ],
   "source": [
    "!pip install azure-search-documents"
   ]
  },
  {
   "cell_type": "markdown",
   "id": "525fae70",
   "metadata": {},
   "source": [
    "### Paths"
   ]
  },
  {
   "cell_type": "code",
   "execution_count": 26,
   "id": "036ac17b",
   "metadata": {},
   "outputs": [],
   "source": [
    "from azure.search.documents import SearchClient\n",
    "from azure.core.credentials import AzureKeyCredential\n",
    "from openai import AzureOpenAI\n",
    "import os\n",
    "from dotenv import load_dotenv"
   ]
  },
  {
   "cell_type": "markdown",
   "id": "22fe50d0",
   "metadata": {},
   "source": [
    "### Confs"
   ]
  },
  {
   "cell_type": "code",
   "execution_count": null,
   "id": "df88e95d",
   "metadata": {},
   "outputs": [],
   "source": [
    "load_dotenv()\n",
    "\n",
    "AZURE_ENDPOINT = os.getenv(\"AZURE_OPEN_AI_ENDPOINT\")\n",
    "\n",
    "endpoint = f\"https://{SERVICE_NAME}.search.windows.net\"\n",
    "\n",
    "service_name = \"ai-search-procedures\"\n",
    "index_name = \"procedimentos-kb\"\n",
    "api_key = \"Yn3qJZOcOZZ95wMyIVdezvtwrtQ0OV32eg1yWKmAzJAzSeB88LR4\"\n",
    "endpoint = f\"https://{service_name}.search.windows.net\""
   ]
  },
  {
   "cell_type": "markdown",
   "id": "fad63b97",
   "metadata": {},
   "source": [
    "### Index Client"
   ]
  },
  {
   "cell_type": "code",
   "execution_count": 10,
   "id": "1f9b909c",
   "metadata": {},
   "outputs": [],
   "source": [
    "search_client = SearchClient(endpoint=endpoint, index_name=index_name, credential=AzureKeyCredential(api_key))"
   ]
  },
  {
   "cell_type": "markdown",
   "id": "c875f2b5",
   "metadata": {},
   "source": [
    "### OpenAI Client"
   ]
  },
  {
   "cell_type": "code",
   "execution_count": null,
   "id": "e6a0dab8",
   "metadata": {},
   "outputs": [],
   "source": [
    "client = AzureOpenAI(\n",
    "    api_version=\"2024-12-01-preview\",\n",
    "    azure_endpoint=AZURE_ENDPOINT,\n",
    "    api_key=\"90Q0ww6bZpijSATwFOM0SW990z8V9a2b5VN6fNpBPU6dOChRwMKdJQQJ99BFACHYHv6XJ3w3AAAAACOGQIxp\",\n",
    ")"
   ]
  },
  {
   "cell_type": "markdown",
   "id": "ad1424d4",
   "metadata": {},
   "source": [
    "### Context function"
   ]
  },
  {
   "cell_type": "code",
   "execution_count": 14,
   "id": "538f6c4e",
   "metadata": {},
   "outputs": [],
   "source": [
    "def obter_contexto_rag(pergunta):\n",
    "    resultados = search_client.search(pergunta, top=3)\n",
    "    return \"\\n\".join([doc['content'] for doc in resultados])"
   ]
  },
  {
   "cell_type": "markdown",
   "id": "a9e896a1",
   "metadata": {},
   "source": [
    "### Tools"
   ]
  },
  {
   "cell_type": "code",
   "execution_count": 15,
   "id": "28085fe2",
   "metadata": {},
   "outputs": [],
   "source": [
    "tools = [{\n",
    "    \"type\": \"function\",\n",
    "    \"function\": {\n",
    "        \"name\": \"resetar_senha\",\n",
    "        \"description\": \"Redefine a senha de um colaborador autorizado\",\n",
    "        \"parameters\": {\n",
    "            \"type\": \"object\",\n",
    "            \"properties\": {\n",
    "                \"cpf\": {\"type\": \"string\"},\n",
    "                \"tipo_usuario\": {\"type\": \"string\", \"enum\": [\"colaborador\", \"gerente\", \"rh\"]}\n",
    "            },\n",
    "            \"required\": [\"cpf\", \"tipo_usuario\"]\n",
    "        }\n",
    "    }\n",
    "}]"
   ]
  },
  {
   "cell_type": "markdown",
   "id": "9a79e8b4",
   "metadata": {},
   "source": [
    "### Define agent function"
   ]
  },
  {
   "cell_type": "code",
   "execution_count": 24,
   "id": "a75b7416",
   "metadata": {},
   "outputs": [],
   "source": [
    "def chamar_agente(pergunta, contexto):\n",
    "    resposta = client.chat.completions.create(\n",
    "        model=\"gpt-4o-mini\", \n",
    "        temperature=0,\n",
    "        tools=tools,\n",
    "        tool_choice=\"auto\",\n",
    "        messages=[\n",
    "            {\"role\": \"system\", \"content\": \"Você é um agente de execução que só age com base nos procedimentos.\"},\n",
    "            {\"role\": \"user\", \"content\": pergunta},\n",
    "            {\"role\": \"system\", \"content\": f\"Base de conhecimento:\\n{contexto}\"}\n",
    "        ]\n",
    "    )\n",
    "    return resposta"
   ]
  },
  {
   "cell_type": "markdown",
   "id": "226afc1a",
   "metadata": {},
   "source": [
    "### Teste"
   ]
  },
  {
   "cell_type": "code",
   "execution_count": 25,
   "id": "4badd156",
   "metadata": {},
   "outputs": [
    {
     "name": "stdout",
     "output_type": "stream",
     "text": [
      "Resposta textual: A redefinição de senha para um gerente deve ser autorizada pelo RH. Você tem a autorização do RH para prosseguir com a redefinição da senha do gerente João?\n"
     ]
    }
   ],
   "source": [
    "pergunta = \"Quero resetar a senha do gerente João, cpf 12345678901\"\n",
    "contexto = obter_contexto_rag(pergunta)\n",
    "\n",
    "resposta = chamar_agente(pergunta, contexto)\n",
    "\n",
    "choice = resposta.choices[0]\n",
    "\n",
    "if choice.finish_reason == \"tool_calls\":\n",
    "    print(\"Decidiu executar:\", choice.message.tool_calls[0].function.name)\n",
    "    print(\"Parâmetros:\", choice.message.tool_calls[0].function.arguments)\n",
    "else:\n",
    "    print(\"Resposta textual:\", choice.message.content)"
   ]
  }
 ],
 "metadata": {
  "kernelspec": {
   "display_name": "Python 3",
   "language": "python",
   "name": "python3"
  },
  "language_info": {
   "codemirror_mode": {
    "name": "ipython",
    "version": 3
   },
   "file_extension": ".py",
   "mimetype": "text/x-python",
   "name": "python",
   "nbconvert_exporter": "python",
   "pygments_lexer": "ipython3",
   "version": "3.10.6"
  }
 },
 "nbformat": 4,
 "nbformat_minor": 5
}
