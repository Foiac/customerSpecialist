{
 "cells": [
  {
   "cell_type": "markdown",
   "id": "8b46c5a0",
   "metadata": {},
   "source": [
    "# Load-kb-data\n",
    "Notebook responsible to load docs in AI Search with semantic search"
   ]
  },
  {
   "cell_type": "markdown",
   "id": "c6d0fde2",
   "metadata": {},
   "source": [
    "<div style=\"text-align: center; line-height: 0; padding-top: 9px;\">\n",
    "  <img src=\"https://raw.githubusercontent.com/Foiac/customerSpecialist/refs/heads/main/customer-specialist/FlowDrawn.png\" alt=\"Clean Data\" style=\"width: 800px\">\n",
    "</div>"
   ]
  },
  {
   "cell_type": "markdown",
   "id": "525fae70",
   "metadata": {},
   "source": [
    "### Paths"
   ]
  },
  {
   "cell_type": "code",
   "execution_count": 47,
   "id": "036ac17b",
   "metadata": {},
   "outputs": [],
   "source": [
    "from azure.core.credentials import AzureKeyCredential\n",
    "from azure.search.documents.indexes import SearchIndexClient\n",
    "from azure.search.documents.indexes.models import (\n",
    "    SearchIndex, SimpleField, SearchableField, SearchFieldDataType\n",
    ")\n",
    "from azure.search.documents import SearchClient\n",
    "import uuid\n",
    "import os\n",
    "from dotenv import load_dotenv"
   ]
  },
  {
   "cell_type": "markdown",
   "id": "22fe50d0",
   "metadata": {},
   "source": [
    "### Confs"
   ]
  },
  {
   "cell_type": "code",
   "execution_count": 48,
   "id": "05f9dce6",
   "metadata": {},
   "outputs": [],
   "source": [
    "load_dotenv()\n",
    "\n",
    "SERVICE_NAME = os.getenv(\"AZURE_SEARCH_SERVICE_NAME\")\n",
    "INDEX_NAME = os.getenv(\"AZURE_SEARCH_INDEX_NAME\")\n",
    "API_KEY = os.getenv(\"AZURE_SEARCH_API_KEY\")\n",
    "\n",
    "endpoint = f\"https://{SERVICE_NAME}.search.windows.net\""
   ]
  },
  {
   "cell_type": "markdown",
   "id": "fad63b97",
   "metadata": {},
   "source": [
    "### Index Client"
   ]
  },
  {
   "cell_type": "code",
   "execution_count": 49,
   "id": "1f9b909c",
   "metadata": {},
   "outputs": [],
   "source": [
    "index_client = SearchIndexClient(endpoint=endpoint, credential=AzureKeyCredential(API_KEY))"
   ]
  },
  {
   "cell_type": "markdown",
   "id": "ad1424d4",
   "metadata": {},
   "source": [
    "### Create Index"
   ]
  },
  {
   "cell_type": "code",
   "execution_count": 50,
   "id": "538f6c4e",
   "metadata": {},
   "outputs": [
    {
     "name": "stdout",
     "output_type": "stream",
     "text": [
      "Índice 'procedimentos-kb' criado com sucesso!\n"
     ]
    }
   ],
   "source": [
    "fields = [\n",
    "    SimpleField(name=\"id\", type=SearchFieldDataType.String, key=True),\n",
    "    SearchableField(name=\"content\", type=SearchFieldDataType.String, analyzer_name=\"en.lucene\"),\n",
    "    SearchableField(name=\"titulo\", type=SearchFieldDataType.String)\n",
    "]\n",
    "\n",
    "index = SearchIndex(name=INDEX_NAME, fields=fields)\n",
    "\n",
    "if INDEX_NAME in [idx.name for idx in index_client.list_indexes()]:\n",
    "    index_client.delete_index(INDEX_NAME)\n",
    "\n",
    "index_client.create_index(index)\n",
    "\n",
    "print(f\"Índice '{INDEX_NAME}' criado com sucesso!\")"
   ]
  },
  {
   "cell_type": "markdown",
   "id": "a9e896a1",
   "metadata": {},
   "source": [
    "### Documents"
   ]
  },
  {
   "cell_type": "code",
   "execution_count": 51,
   "id": "28085fe2",
   "metadata": {},
   "outputs": [
    {
     "name": "stdout",
     "output_type": "stream",
     "text": [
      "{'id': '08432945-4174-4f20-85d4-f8785b6bbdb5', 'titulo': 'Resetar senha de colaborador', 'content': 'Este procedimento descreve como um colaborador pode solicitar a redefinição de sua própria senha.\\n\\nRestrições:\\n- O colaborador deve ser o titular da conta.\\n- O acesso à ferramenta de autosserviço de senhas deve estar habilitado.\\n- Disponível de segunda a sexta.\\n- Caso não consiga concluir sozinho, o suporte pode auxiliar em horário comercial (08:00–18:00).\\n\\nPasso a passo:\\n1. Acesse o portal de autosserviço (senha.empresa.com).\\n2. Clique em “Esqueci minha senha”.\\n3. Preencha as informações solicitadas (CPF, e-mail ou matrícula).\\n4. Escolha o método de verificação: SMS, e-mail alternativo ou token autenticador.\\n5. Após validação, defina uma nova senha conforme as políticas da empresa.\\n6. Aguarde até 15 minutos para propagação no ambiente.\\n\\nObservações:\\n- Caso o portal não esteja acessível, abra um chamado no Service Desk.\\n- Em nenhuma hipótese a senha deve ser fornecida por terceiros.'}\n"
     ]
    }
   ],
   "source": [
    "search_client = SearchClient(endpoint=endpoint, index_name=INDEX_NAME, credential=AzureKeyCredential(api_key))\n",
    "\n",
    "def carregar_documentos_de_txt(caminho_arquivo):\n",
    "    docs = []\n",
    "    with open(caminho_arquivo, 'r', encoding='utf-8') as f:\n",
    "        conteudo = f.read()\n",
    "\n",
    "    blocos = conteudo.strip().split('---')\n",
    "    for bloco in blocos:\n",
    "        linhas = bloco.strip().splitlines()\n",
    "        if not linhas:\n",
    "            continue\n",
    "\n",
    "        doc = {\"id\": str(uuid.uuid4())}\n",
    "        titulo = ''\n",
    "        content = []\n",
    "\n",
    "        for linha in linhas:\n",
    "            if linha.startswith('titulo:'):\n",
    "                titulo = linha.replace('titulo:', '').strip()\n",
    "                doc[\"titulo\"] = titulo\n",
    "            elif linha.startswith('content:'):\n",
    "                content.append(linha.replace('content:', '').strip())\n",
    "            else:\n",
    "                content.append(linha.strip())\n",
    "\n",
    "        doc[\"content\"] = \"\\n\".join(content).strip()\n",
    "        docs.append(doc)\n",
    "\n",
    "    return docs\n",
    "\n",
    "docs = carregar_documentos_de_txt(\"procedimentos.txt\")\n",
    "for doc in docs:\n",
    "    print(doc)\n"
   ]
  },
  {
   "cell_type": "markdown",
   "id": "481181ff",
   "metadata": {},
   "source": [
    "### Upload Documents"
   ]
  },
  {
   "cell_type": "code",
   "execution_count": 52,
   "id": "a1366432",
   "metadata": {},
   "outputs": [
    {
     "name": "stdout",
     "output_type": "stream",
     "text": [
      "Documentos enviados com sucesso:\n",
      "{'additional_properties': {}, 'key': '08432945-4174-4f20-85d4-f8785b6bbdb5', 'error_message': None, 'succeeded': True, 'status_code': 201}\n"
     ]
    }
   ],
   "source": [
    "result = search_client.upload_documents(documents=docs)\n",
    "\n",
    "print(\"Documentos enviados com sucesso:\")\n",
    "for r in result:\n",
    "    print(r)"
   ]
  },
  {
   "cell_type": "markdown",
   "id": "2781ecba",
   "metadata": {},
   "source": [
    "### Test"
   ]
  },
  {
   "cell_type": "code",
   "execution_count": 54,
   "id": "66d497b7",
   "metadata": {},
   "outputs": [
    {
     "name": "stdout",
     "output_type": "stream",
     "text": [
      "Contexto encontrado:\n",
      "- Este procedimento descreve como um colaborador pode solicitar a redefinição de sua própria senha.\n",
      "\n",
      "Restrições:\n",
      "- O colaborador deve ser o titular da conta.\n",
      "- O acesso à ferramenta de autosserviço de senhas deve estar habilitado.\n",
      "- Disponível de segunda a sexta.\n",
      "- Caso não consiga concluir sozinho, o suporte pode auxiliar em horário comercial (08:00–18:00).\n",
      "\n",
      "Passo a passo:\n",
      "1. Acesse o portal de autosserviço (senha.empresa.com).\n",
      "2. Clique em “Esqueci minha senha”.\n",
      "3. Preencha as informações solicitadas (CPF, e-mail ou matrícula).\n",
      "4. Escolha o método de verificação: SMS, e-mail alternativo ou token autenticador.\n",
      "5. Após validação, defina uma nova senha conforme as políticas da empresa.\n",
      "6. Aguarde até 15 minutos para propagação no ambiente.\n",
      "\n",
      "Observações:\n",
      "- Caso o portal não esteja acessível, abra um chamado no Service Desk.\n",
      "- Em nenhuma hipótese a senha deve ser fornecida por terceiros.\n"
     ]
    }
   ],
   "source": [
    "pergunta = \"Posso resetar a senha de um gerente sem aprovação?\"\n",
    "\n",
    "resultados = search_client.search(search_text=pergunta, top=3)\n",
    "\n",
    "print(\"Contexto encontrado:\")\n",
    "for doc in resultados:\n",
    "    print(\"-\", doc['content'])"
   ]
  }
 ],
 "metadata": {
  "kernelspec": {
   "display_name": "Python 3",
   "language": "python",
   "name": "python3"
  },
  "language_info": {
   "codemirror_mode": {
    "name": "ipython",
    "version": 3
   },
   "file_extension": ".py",
   "mimetype": "text/x-python",
   "name": "python",
   "nbconvert_exporter": "python",
   "pygments_lexer": "ipython3",
   "version": "3.10.6"
  }
 },
 "nbformat": 4,
 "nbformat_minor": 5
}
