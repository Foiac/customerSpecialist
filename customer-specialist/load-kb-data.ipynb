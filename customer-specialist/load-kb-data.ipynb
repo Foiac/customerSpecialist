{
 "cells": [
  {
   "cell_type": "markdown",
   "id": "8b46c5a0",
   "metadata": {},
   "source": [
    "# Load-kb-data\n",
    "Notebook responsible to load docs in AI Search"
   ]
  },
  {
   "cell_type": "markdown",
   "id": "c6d0fde2",
   "metadata": {},
   "source": [
    "<div style=\"text-align: center; line-height: 0; padding-top: 9px;\">\n",
    "  <img src=\"https://raw.githubusercontent.com/Foiac/customerSpecialist/refs/heads/main/customer-specialist/FlowDrawn.png\" alt=\"Clean Data\" style=\"width: 800px\">\n",
    "</div>"
   ]
  },
  {
   "cell_type": "markdown",
   "id": "525fae70",
   "metadata": {},
   "source": [
    "### Paths"
   ]
  },
  {
   "cell_type": "code",
   "execution_count": 13,
   "id": "036ac17b",
   "metadata": {},
   "outputs": [],
   "source": [
    "from azure.core.credentials import AzureKeyCredential\n",
    "from azure.search.documents.indexes import SearchIndexClient\n",
    "from azure.search.documents.indexes.models import (\n",
    "    SearchIndex, SimpleField, SearchableField, SearchFieldDataType\n",
    ")\n",
    "from azure.search.documents import SearchClient\n",
    "import uuid\n",
    "import os\n",
    "from dotenv import load_dotenv"
   ]
  },
  {
   "cell_type": "markdown",
   "id": "22fe50d0",
   "metadata": {},
   "source": [
    "### Confs"
   ]
  },
  {
   "cell_type": "code",
   "execution_count": 14,
   "id": "05f9dce6",
   "metadata": {},
   "outputs": [],
   "source": [
    "load_dotenv()\n",
    "\n",
    "SERVICE_NAME = os.getenv(\"AZURE_SEARCH_SERVICE_NAME\")\n",
    "INDEX_NAME = os.getenv(\"AZURE_SEARCH_INDEX_NAME\")\n",
    "API_KEY = os.getenv(\"AZURE_SEARCH_API_KEY\")\n",
    "\n",
    "endpoint = f\"https://{SERVICE_NAME}.search.windows.net\""
   ]
  },
  {
   "cell_type": "markdown",
   "id": "fad63b97",
   "metadata": {},
   "source": [
    "### Index Client"
   ]
  },
  {
   "cell_type": "code",
   "execution_count": 15,
   "id": "1f9b909c",
   "metadata": {},
   "outputs": [],
   "source": [
    "index_client = SearchIndexClient(endpoint=endpoint, credential=AzureKeyCredential(API_KEY))"
   ]
  },
  {
   "cell_type": "markdown",
   "id": "ad1424d4",
   "metadata": {},
   "source": [
    "### Create Index"
   ]
  },
  {
   "cell_type": "code",
   "execution_count": 16,
   "id": "538f6c4e",
   "metadata": {},
   "outputs": [
    {
     "name": "stdout",
     "output_type": "stream",
     "text": [
      "Índice 'procedimentos-kb' criado com sucesso!\n"
     ]
    }
   ],
   "source": [
    "fields = [\n",
    "    SimpleField(name=\"id\", type=SearchFieldDataType.String, key=True),\n",
    "    SearchableField(name=\"content\", type=SearchFieldDataType.String, analyzer_name=\"en.lucene\"),\n",
    "    SearchableField(name=\"titulo\", type=SearchFieldDataType.String)\n",
    "]\n",
    "\n",
    "index = SearchIndex(name=INDEX_NAME, fields=fields)\n",
    "\n",
    "if INDEX_NAME in [idx.name for idx in index_client.list_indexes()]:\n",
    "    index_client.delete_index(INDEX_NAME)\n",
    "\n",
    "index_client.create_index(index)\n",
    "\n",
    "print(f\"Índice '{INDEX_NAME}' criado com sucesso!\")"
   ]
  },
  {
   "cell_type": "markdown",
   "id": "a9e896a1",
   "metadata": {},
   "source": [
    "### Documents"
   ]
  },
  {
   "cell_type": "code",
   "execution_count": 17,
   "id": "28085fe2",
   "metadata": {},
   "outputs": [],
   "source": [
    "search_client = SearchClient(endpoint=endpoint, index_name=INDEX_NAME, credential=AzureKeyCredential(api_key))\n",
    "\n",
    "docs = [\n",
    "    {\n",
    "        \"id\": str(uuid.uuid4()),\n",
    "        \"titulo\": \"Resetar senha de colaborador\",\n",
    "        \"content\": \"Qualquer colaborador pode solicitar redefinição de senha para si mesmo sem autorização adicional.\"\n",
    "    },\n",
    "    {\n",
    "        \"id\": str(uuid.uuid4()),\n",
    "        \"titulo\": \"Resetar senha de gerente\",\n",
    "        \"content\": \"Apenas o RH pode autorizar a redefinição de senha para um gerente. Nenhum outro setor tem permissão.\"\n",
    "    },\n",
    "    {\n",
    "        \"id\": str(uuid.uuid4()),\n",
    "        \"titulo\": \"Deletar conta\",\n",
    "        \"content\": \"Nunca se deve deletar contas de usuários sem autorização por escrito do supervisor responsável.\"\n",
    "    },\n",
    "    {\n",
    "        \"id\": str(uuid.uuid4()),\n",
    "        \"titulo\": \"Acesso de estagiários\",\n",
    "        \"content\": \"Estagiários não devem receber permissões administrativas em nenhum sistema.\"\n",
    "    }\n",
    "]\n",
    "\n"
   ]
  },
  {
   "cell_type": "markdown",
   "id": "481181ff",
   "metadata": {},
   "source": [
    "### Upload Documents"
   ]
  },
  {
   "cell_type": "code",
   "execution_count": 18,
   "id": "a1366432",
   "metadata": {},
   "outputs": [
    {
     "name": "stdout",
     "output_type": "stream",
     "text": [
      "Documentos enviados com sucesso:\n",
      "{'additional_properties': {}, 'key': '3f978bc8-b323-4b3a-8322-81206e3f10e0', 'error_message': None, 'succeeded': True, 'status_code': 201}\n",
      "{'additional_properties': {}, 'key': '73db56ad-1b96-4294-8e77-8a1f20232962', 'error_message': None, 'succeeded': True, 'status_code': 201}\n",
      "{'additional_properties': {}, 'key': '57be629e-596c-4f57-ab82-bf363d5b6ee4', 'error_message': None, 'succeeded': True, 'status_code': 201}\n",
      "{'additional_properties': {}, 'key': '8cddff32-4dca-43bf-a79a-04a1b12fbd7a', 'error_message': None, 'succeeded': True, 'status_code': 201}\n"
     ]
    }
   ],
   "source": [
    "result = search_client.upload_documents(documents=docs)\n",
    "\n",
    "print(\"Documentos enviados com sucesso:\")\n",
    "for r in result:\n",
    "    print(r)"
   ]
  },
  {
   "cell_type": "markdown",
   "id": "2781ecba",
   "metadata": {},
   "source": [
    "### Test"
   ]
  },
  {
   "cell_type": "code",
   "execution_count": 20,
   "id": "66d497b7",
   "metadata": {},
   "outputs": [
    {
     "name": "stdout",
     "output_type": "stream",
     "text": [
      "Contexto encontrado:\n",
      "- Apenas o RH pode autorizar a redefinição de senha para um gerente. Nenhum outro setor tem permissão.\n",
      "- Qualquer colaborador pode solicitar redefinição de senha para si mesmo sem autorização adicional.\n",
      "- Nunca se deve deletar contas de usuários sem autorização por escrito do supervisor responsável.\n"
     ]
    }
   ],
   "source": [
    "pergunta = \"Posso resetar a senha de um gerente sem aprovação?\"\n",
    "\n",
    "resultados = search_client.search(search_text=pergunta, top=3)\n",
    "\n",
    "print(\"Contexto encontrado:\")\n",
    "for doc in resultados:\n",
    "    print(\"-\", doc['content'])"
   ]
  }
 ],
 "metadata": {
  "kernelspec": {
   "display_name": "Python 3",
   "language": "python",
   "name": "python3"
  },
  "language_info": {
   "codemirror_mode": {
    "name": "ipython",
    "version": 3
   },
   "file_extension": ".py",
   "mimetype": "text/x-python",
   "name": "python",
   "nbconvert_exporter": "python",
   "pygments_lexer": "ipython3",
   "version": "3.10.6"
  }
 },
 "nbformat": 4,
 "nbformat_minor": 5
}
